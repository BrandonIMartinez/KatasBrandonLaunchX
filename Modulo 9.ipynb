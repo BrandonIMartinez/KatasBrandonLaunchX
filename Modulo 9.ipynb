{
 "cells": [
  {
   "cell_type": "markdown",
   "metadata": {},
   "source": [
    "# Ejercicio 1: Trabajar con argumentos en funciones"
   ]
  },
  {
   "cell_type": "code",
   "execution_count": 51,
   "metadata": {},
   "outputs": [],
   "source": [
    "def tanques(tanque1, tanque2, tanque3) :\n",
    "    promedio = (tanque1 + tanque2 + tanque3) / 3\n",
    "    return f'Informe de combustible: \\n-Promedio: {promedio}%\\n-Tanque 1: {tanque1}%\\n-Tanque 2: {tanque2}%\\n-Tanque 3: {tanque3}%'"
   ]
  },
  {
   "cell_type": "code",
   "execution_count": 52,
   "metadata": {},
   "outputs": [
    {
     "name": "stdout",
     "output_type": "stream",
     "text": [
      "Informe de combustible: \n",
      "-Promedio: 78.33333333333333%\n",
      "-Tanque 1: 80%\n",
      "-Tanque 2: 70%\n",
      "-Tanque 3: 85%\n"
     ]
    }
   ],
   "source": [
    "print (tanques(80,70,85))"
   ]
  },
  {
   "cell_type": "code",
   "execution_count": 53,
   "metadata": {},
   "outputs": [
    {
     "data": {
      "text/plain": [
       "78.33333333333333"
      ]
     },
     "execution_count": 53,
     "metadata": {},
     "output_type": "execute_result"
    }
   ],
   "source": [
    "def promedio(values):\n",
    "    total = sum(values)\n",
    "    num_tanques = len(values)\n",
    "    return total / num_tanques\n",
    "promedio([80,70,85])"
   ]
  },
  {
   "cell_type": "code",
   "execution_count": 54,
   "metadata": {},
   "outputs": [
    {
     "name": "stdout",
     "output_type": "stream",
     "text": [
      "Informe de combustible: \n",
      "-Promedio: 78.33333333333333%\n",
      "-Tanque 1: 80%\n",
      "-Tanque 2: 70%\n",
      "-Tanque 3: 85%\n"
     ]
    }
   ],
   "source": [
    "def tanques(tanque1, tanque2, tanque3) :\n",
    "    return f'Informe de combustible: \\n-Promedio: {promedio([tanque1,tanque2,tanque3])}%\\n-Tanque 1: {tanque1}%\\n-Tanque 2: {tanque2}%\\n-Tanque 3: {tanque3}%'\n",
    "print(tanques(80,70,85))"
   ]
  },
  {
   "cell_type": "markdown",
   "metadata": {},
   "source": [
    "# Ejercicio 2: Trabajo con argumentos de palabra clave"
   ]
  },
  {
   "cell_type": "code",
   "execution_count": 55,
   "metadata": {},
   "outputs": [
    {
     "name": "stdout",
     "output_type": "stream",
     "text": [
      "La misión a Luna\n",
      "-Tiempo de viaje: 61 minutos\n",
      "-Tanque de combustible: 270 litros\n"
     ]
    }
   ],
   "source": [
    "def informe_mision(hora_plelanzamiento, tiempo_vuelo, destino, tanque_externo, tanque_principal):\n",
    "    return f'La misión a {destino}\\n-Tiempo de viaje: {hora_plelanzamiento+tiempo_vuelo} minutos\\n-Tanque de combustible: {tanque_externo+tanque_principal} litros'\n",
    "\n",
    "print (informe_mision(10,51,'Luna',120,150))"
   ]
  },
  {
   "cell_type": "code",
   "execution_count": 56,
   "metadata": {},
   "outputs": [
    {
     "name": "stdout",
     "output_type": "stream",
     "text": [
      "La misión a Luna\n",
      "-Tiempo de viaje: 31 minutos\n",
      "-Combustible: 5500\n"
     ]
    }
   ],
   "source": [
    "def informe_mision(destino, *minutos,**combustible):\n",
    "    return f'La misión a {destino}\\n-Tiempo de viaje: {sum(minutos)} minutos\\n-Combustible: {sum(combustible.values())}'\n",
    "\n",
    "print (informe_mision('Luna', 2,5,8,7,9, principal=3000, externo=2500))"
   ]
  },
  {
   "cell_type": "code",
   "execution_count": 57,
   "metadata": {},
   "outputs": [
    {
     "name": "stdout",
     "output_type": "stream",
     "text": [
      "La misión a Luna\n",
      "-Tiempo de viaje: 181 minutos\n",
      "-Combustible: 5500\n",
      "   El tanque principal tiene : 3000 litros\n",
      "   El tanque externo tiene : 2500 litros\n",
      "\n"
     ]
    }
   ],
   "source": [
    "def informe_mision(destino, *minutos,**combustible):\n",
    "    reporte=  f'La misión a {destino}\\n-Tiempo de viaje: {sum(minutos)} minutos\\n-Combustible: {sum(combustible.values())}\\n'\n",
    "    for tanque, litros in combustible.items():\n",
    "        reporte += f'   El tanque {tanque} tiene : {litros} litros\\n'\n",
    "    return reporte\n",
    "print (informe_mision('Luna', 2,5,8,7,91,5,45,8,5,5, principal=3000, externo=2500))"
   ]
  }
 ],
 "metadata": {
  "interpreter": {
   "hash": "49fdda9a8f1b43ecf94cbf6adfec0c9149aed4e40f425dad389976f3db3c5b4b"
  },
  "kernelspec": {
   "display_name": "Python 3.10.2 64-bit",
   "language": "python",
   "name": "python3"
  },
  "language_info": {
   "codemirror_mode": {
    "name": "ipython",
    "version": 3
   },
   "file_extension": ".py",
   "mimetype": "text/x-python",
   "name": "python",
   "nbconvert_exporter": "python",
   "pygments_lexer": "ipython3",
   "version": "3.10.2"
  },
  "orig_nbformat": 4
 },
 "nbformat": 4,
 "nbformat_minor": 2
}
