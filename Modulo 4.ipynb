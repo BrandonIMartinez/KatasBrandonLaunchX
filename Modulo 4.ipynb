{
 "cells": [
  {
   "cell_type": "markdown",
   "metadata": {},
   "source": [
    "# Ejercicio 1: Transformar Cadenas"
   ]
  },
  {
   "cell_type": "code",
   "execution_count": 18,
   "metadata": {},
   "outputs": [
    {
     "data": {
      "text/plain": [
       "['Interesting facts about the Moon',\n",
       " \" The Moon is the Earth's only satellite\",\n",
       " ' There are several interesting facts about the Moon and how it affects life here on Earth',\n",
       " ' \\nOn average, the Moon moves 4cm away from the Earth every year',\n",
       " ' This yearly drift is not significant enough to cause inmediate effects on Earth',\n",
       " ' The highest daylight temperature of the Moon is 127 C',\n",
       " '']"
      ]
     },
     "execution_count": 18,
     "metadata": {},
     "output_type": "execute_result"
    }
   ],
   "source": [
    "text = \"\"\"Interesting facts about the Moon. The Moon is the Earth's only satellite. There are several interesting facts about the Moon and how it affects life here on Earth. \n",
    "On average, the Moon moves 4cm away from the Earth every year. This yearly drift is not significant enough to cause inmediate effects on Earth. The highest daylight temperature of the Moon is 127 C.\"\"\"\n",
    "text_dividido = text.split('.')\n",
    "text_dividido"
   ]
  },
  {
   "cell_type": "code",
   "execution_count": 19,
   "metadata": {},
   "outputs": [],
   "source": [
    "palabras_clave = [\"average\", \"temperature\", \"distance\"]"
   ]
  },
  {
   "cell_type": "code",
   "execution_count": 20,
   "metadata": {},
   "outputs": [
    {
     "name": "stdout",
     "output_type": "stream",
     "text": [
      " \n",
      "On average, the Moon moves 4cm away from the Earth every year\n",
      " The highest daylight temperature of the Moon is 127 C\n"
     ]
    }
   ],
   "source": [
    "for oracion in text_dividido:\n",
    "    for palabra in palabras_clave:\n",
    "        if palabra in oracion:\n",
    "            print(oracion)\n",
    "            break"
   ]
  },
  {
   "cell_type": "code",
   "execution_count": 21,
   "metadata": {},
   "outputs": [
    {
     "name": "stdout",
     "output_type": "stream",
     "text": [
      " \n",
      "On average, the Moon moves 4cm away from the Earth every year\n",
      " The highest daylight temperature of the Moon is 127 Celcius\n"
     ]
    }
   ],
   "source": [
    "for oracion in text_dividido:\n",
    "    for palabra in palabras_clave:\n",
    "        if palabra in oracion:\n",
    "            print(oracion.replace(\"C\", \"Celcius\"))\n",
    "            break"
   ]
  },
  {
   "cell_type": "markdown",
   "metadata": {},
   "source": [
    "# Ejercicio 2: Formateando Cadenas"
   ]
  },
  {
   "cell_type": "code",
   "execution_count": 26,
   "metadata": {},
   "outputs": [
    {
     "name": "stdout",
     "output_type": "stream",
     "text": [
      "Intresting Facts About Moon: \n",
      "\n",
      "-Planet name: Earth\n",
      "-Gravity on Moon is:  1.6199999999999999 m/s2\n",
      "\n",
      "\n",
      "Intresting Facts About Moon: \n",
      "\n",
      "-Planet name: Earth\n",
      "-Gravity on Moon is:  1.6199999999999999 m/s2\n",
      "\n",
      "\n",
      "Intresting Facts About Ganimides\n",
      "\n",
      "-Planet name: Marte\n",
      "-Gravity on Ganimides is:  1.4300000000000002 m/s2\n"
     ]
    }
   ],
   "source": [
    "name = 'Moon'\n",
    "gravity = 0.00162 #in km/s2\n",
    "planet =  'Earth'\n",
    "\n",
    "title = f'intresting facts about {name}:'\n",
    "\n",
    "facts = f'\\n\\n-Planet name: {planet}\\n-Gravity on {name} is:  {gravity*1000} m/s2'\n",
    "\n",
    "plantilla = f'{title.title()} {facts}\\n\\n'\n",
    "\n",
    "print(plantilla)\n",
    "\n",
    "planet = 'Marte'\n",
    "gravity = 0.00143\n",
    "name = 'Ganimides'\n",
    "\n",
    "print(plantilla)\n",
    "\n",
    "nueva_plantilla = 'Intresting Facts About {name}\\n\\n-Planet name: {planet}\\n-Gravity on {name} is:  {gravity} m/s2'\n",
    "print(nueva_plantilla.format(planet=planet, gravity=gravity*1000, name=name))"
   ]
  }
 ],
 "metadata": {
  "interpreter": {
   "hash": "49fdda9a8f1b43ecf94cbf6adfec0c9149aed4e40f425dad389976f3db3c5b4b"
  },
  "kernelspec": {
   "display_name": "Python 3.10.2 64-bit",
   "language": "python",
   "name": "python3"
  },
  "language_info": {
   "codemirror_mode": {
    "name": "ipython",
    "version": 3
   },
   "file_extension": ".py",
   "mimetype": "text/x-python",
   "name": "python",
   "nbconvert_exporter": "python",
   "pygments_lexer": "ipython3",
   "version": "3.10.2"
  },
  "orig_nbformat": 4
 },
 "nbformat": 4,
 "nbformat_minor": 2
}
