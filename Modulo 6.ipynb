{
 "cells": [
  {
   "cell_type": "markdown",
   "metadata": {},
   "source": [
    "# Ejercicio 1 - Crear y usar listas de Python"
   ]
  },
  {
   "cell_type": "code",
   "execution_count": 7,
   "metadata": {},
   "outputs": [
    {
     "name": "stdout",
     "output_type": "stream",
     "text": [
      "['Mercurio', 'Venus', 'Tierra', 'Marte', 'Jupiter', 'Saturno', 'Urano', 'Neptuno']\n",
      "Pluto\n"
     ]
    }
   ],
   "source": [
    "planets = ['Mercurio' , 'Venus' , 'Tierra' , 'Marte' , 'Jupiter' , 'Saturno' , 'Urano' , 'Neptuno']\n",
    "print(planets)\n",
    "\n",
    "planets.append('Pluto')\n",
    "print(planets[-1])"
   ]
  },
  {
   "cell_type": "markdown",
   "metadata": {},
   "source": [
    "# Ejercicio 2 - Trabajando con datos de una lista"
   ]
  },
  {
   "cell_type": "code",
   "execution_count": 31,
   "metadata": {},
   "outputs": [
    {
     "name": "stdout",
     "output_type": "stream",
     "text": [
      "Tierra es el planeta numero 3\n",
      "Estos son los planetas mas cercanos al sol antes de Tierra :\n",
      "['Mercurio', 'Venus']\n",
      "Estos son los planetas mas lejanos al sol despues de Tierra :\n",
      "['Marte', 'Jupiter', 'Saturno', 'Urano', 'Neptuno']\n"
     ]
    }
   ],
   "source": [
    "planets = ['Mercurio' , 'Venus' , 'Tierra' , 'Marte' , 'Jupiter' , 'Saturno' , 'Urano' , 'Neptuno']\n",
    "\n",
    "planet_name = input('Ingrese el nombre de un planeta (con mayúscula la primera letra):  ')\n",
    "\n",
    "planeta_buscado = planets.index(planet_name)\n",
    "print(planet_name, 'es el planeta numero', str(planeta_buscado+1))\n",
    "\n",
    "print('Estos son los planetas mas cercanos al sol antes de', planet_name,':')\n",
    "print(planets[0:planeta_buscado])\n",
    "\n",
    "print('Estos son los planetas mas lejanos al sol despues de', planet_name,':')\n",
    "print(planets[planeta_buscado+1:])"
   ]
  }
 ],
 "metadata": {
  "interpreter": {
   "hash": "49fdda9a8f1b43ecf94cbf6adfec0c9149aed4e40f425dad389976f3db3c5b4b"
  },
  "kernelspec": {
   "display_name": "Python 3.10.2 64-bit",
   "language": "python",
   "name": "python3"
  },
  "language_info": {
   "codemirror_mode": {
    "name": "ipython",
    "version": 3
   },
   "file_extension": ".py",
   "mimetype": "text/x-python",
   "name": "python",
   "nbconvert_exporter": "python",
   "pygments_lexer": "ipython3",
   "version": "3.10.2"
  },
  "orig_nbformat": 4
 },
 "nbformat": 4,
 "nbformat_minor": 2
}
