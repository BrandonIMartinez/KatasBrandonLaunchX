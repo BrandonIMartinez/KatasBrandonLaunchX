{
 "cells": [
  {
   "cell_type": "markdown",
   "metadata": {},
   "source": [
    "# Ejercicio 1 - Utilizar operadores aritméticos"
   ]
  },
  {
   "cell_type": "code",
   "execution_count": 18,
   "metadata": {},
   "outputs": [
    {
     "name": "stdout",
     "output_type": "stream",
     "text": [
      "Distancia en km:\n",
      "628949330\n",
      "Distancia en millas:\n",
      "390577533.93\n"
     ]
    }
   ],
   "source": [
    "dtierra = 149597870 #km\n",
    "djupiter = 778547200 #km\n",
    "\n",
    "dkilometros = djupiter - dtierra\n",
    "print('Distancia en km:')\n",
    "print(dkilometros)\n",
    "\n",
    "dmillas = dkilometros * .621\n",
    "print('Distancia en millas:')\n",
    "print(dmillas)"
   ]
  },
  {
   "cell_type": "markdown",
   "metadata": {},
   "source": [
    "# Ejercicio 2 - Convierte cadenas en números y usa valores absolutos"
   ]
  },
  {
   "cell_type": "code",
   "execution_count": 19,
   "metadata": {},
   "outputs": [
    {
     "name": "stdout",
     "output_type": "stream",
     "text": [
      "Distancia en km:\n",
      "56\n",
      "Distancia en millas:\n",
      "34.775999999999996\n"
     ]
    }
   ],
   "source": [
    "planeta_uno = input('¿Cual es la distancia del primer planeta al sol en km?   ')\n",
    "planeta_dos = input('¿Cual es la distancia del segundo planeta al sol en km?   ')\n",
    "\n",
    "planeta_1 = int(planeta_uno)\n",
    "planeta_2 = int(planeta_dos)\n",
    "\n",
    "distkm = abs(planeta_1 - planeta_2)\n",
    "print('Distancia en km:')\n",
    "print(distkm)\n",
    "\n",
    "distmi = distkm * 0.621\n",
    "print('Distancia en millas:')\n",
    "print(distmi)"
   ]
  }
 ],
 "metadata": {
  "interpreter": {
   "hash": "49fdda9a8f1b43ecf94cbf6adfec0c9149aed4e40f425dad389976f3db3c5b4b"
  },
  "kernelspec": {
   "display_name": "Python 3.10.2 64-bit",
   "language": "python",
   "name": "python3"
  },
  "language_info": {
   "codemirror_mode": {
    "name": "ipython",
    "version": 3
   },
   "file_extension": ".py",
   "mimetype": "text/x-python",
   "name": "python",
   "nbconvert_exporter": "python",
   "pygments_lexer": "ipython3",
   "version": "3.10.2"
  },
  "orig_nbformat": 4
 },
 "nbformat": 4,
 "nbformat_minor": 2
}
