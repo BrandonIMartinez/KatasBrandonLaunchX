{
 "cells": [
  {
   "cell_type": "markdown",
   "metadata": {},
   "source": [
    "# Kata 3\n",
    "\n",
    "Escribir declaraciones if, else y elif"
   ]
  },
  {
   "cell_type": "code",
   "execution_count": 11,
   "metadata": {},
   "outputs": [
    {
     "name": "stdout",
     "output_type": "stream",
     "text": [
      "Un asteroide se acerca\n",
      "¡Advertencia un asteroide se acerca a una velocidad crítica!\n"
     ]
    }
   ],
   "source": [
    "print(\"Un asteroide se acerca\")\n",
    "vel_asteroide = 49\n",
    "if vel_asteroide > 25:\n",
    "    print(\"¡Advertencia un asteroide se acerca a una velocidad crítica!\")\n",
    "else:\n",
    "    print(\"No te preocupes, todo bien.\")"
   ]
  },
  {
   "cell_type": "code",
   "execution_count": 1,
   "metadata": {},
   "outputs": [
    {
     "name": "stdout",
     "output_type": "stream",
     "text": [
      "Un asteroide se dirije a la Tierra\n",
      "No hay nada que ver en el cielo\n"
     ]
    }
   ],
   "source": [
    "print(\"Un asteroide se dirije a la Tierra\")\n",
    "vel_asteroide = 19\n",
    "if vel_asteroide > 20:\n",
    "    print('¡Miren al cielo cielo, hay un cometa!')\n",
    "elif vel_asteroide == 20:\n",
    "    print('¡Miren al cielo cielo, hay un cometa!')\n",
    "else :\n",
    "    print('No hay nada que ver en el cielo')"
   ]
  },
  {
   "cell_type": "code",
   "execution_count": 12,
   "metadata": {},
   "outputs": [
    {
     "name": "stdout",
     "output_type": "stream",
     "text": [
      "¡Alerta de asteroide que golpeara la tierra!\n"
     ]
    }
   ],
   "source": [
    "vel_asteroide =  19\n",
    "tamaño_asteroide = 2000\n",
    "if tamaño_asteroide > 25 and vel_asteroide > 25 :\n",
    "    print('¡Alerta de asteroide que golpeara la tierra!')\n",
    "elif tamaño_asteroide >25:\n",
    "    print('¡Alerta de asteroide que golpeara la tierra!')\n",
    "elif vel_asteroide >= 20 and tamaño_asteroide < 25:\n",
    "    print('¡Miren al cielo, hay un cometa!')\n",
    "elif tamaño_asteroide < 25:\n",
    "    print('No hay nada que ver en el cielo.')\n",
    "else:\n",
    "    print('No hay nada que ver en el cielo.')\n"
   ]
  }
 ],
 "metadata": {
  "interpreter": {
   "hash": "49fdda9a8f1b43ecf94cbf6adfec0c9149aed4e40f425dad389976f3db3c5b4b"
  },
  "kernelspec": {
   "display_name": "Python 3.10.2 64-bit",
   "language": "python",
   "name": "python3"
  },
  "language_info": {
   "codemirror_mode": {
    "name": "ipython",
    "version": 3
   },
   "file_extension": ".py",
   "mimetype": "text/x-python",
   "name": "python",
   "nbconvert_exporter": "python",
   "pygments_lexer": "ipython3",
   "version": "3.10.2"
  },
  "orig_nbformat": 4
 },
 "nbformat": 4,
 "nbformat_minor": 2
}
